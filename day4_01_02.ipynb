{
 "cells": [
  {
   "cell_type": "code",
   "execution_count": 3,
   "id": "8f131c51-221f-481e-a374-5fa9bc4f7fa0",
   "metadata": {},
   "outputs": [
    {
     "data": {
      "text/plain": [
       "'olleh'"
      ]
     },
     "execution_count": 3,
     "metadata": {},
     "output_type": "execute_result"
    }
   ],
   "source": [
    "# reversing a string\n",
    "str1='hello'\n",
    "str1[::-1]"
   ]
  },
  {
   "cell_type": "code",
   "execution_count": 18,
   "id": "15bc6ef8-4797-4ec8-9ccc-31f6827da2f1",
   "metadata": {},
   "outputs": [],
   "source": [
    "c=reversed(str1)"
   ]
  },
  {
   "cell_type": "code",
   "execution_count": 19,
   "id": "805c86b6-7419-4f0d-931d-925515cb8f7f",
   "metadata": {},
   "outputs": [
    {
     "name": "stdout",
     "output_type": "stream",
     "text": [
      "<reversed object at 0x7f0eb6636440>\n"
     ]
    }
   ],
   "source": [
    "print(c)"
   ]
  },
  {
   "cell_type": "code",
   "execution_count": 20,
   "id": "50dbe693-e9e7-4a6f-baf9-eb2458e91e22",
   "metadata": {},
   "outputs": [
    {
     "data": {
      "text/plain": [
       "['o', 'l', 'l', 'e', 'h']"
      ]
     },
     "execution_count": 20,
     "metadata": {},
     "output_type": "execute_result"
    }
   ],
   "source": [
    "list(c)"
   ]
  },
  {
   "cell_type": "code",
   "execution_count": 23,
   "id": "f5d43f4d-53b1-4470-b58d-09a9fa60467a",
   "metadata": {},
   "outputs": [
    {
     "data": {
      "text/plain": [
       "'o l l e h'"
      ]
     },
     "execution_count": 23,
     "metadata": {},
     "output_type": "execute_result"
    }
   ],
   "source": [
    "' '.join(reversed(str1))"
   ]
  },
  {
   "cell_type": "code",
   "execution_count": 28,
   "id": "089c59dd-bc3a-4176-a33c-2ac6227896d5",
   "metadata": {},
   "outputs": [],
   "source": [
    "string1=' python '"
   ]
  },
  {
   "cell_type": "code",
   "execution_count": 29,
   "id": "badecf4a-8abd-4897-9145-4f753d07fce7",
   "metadata": {},
   "outputs": [
    {
     "data": {
      "text/plain": [
       "'python'"
      ]
     },
     "execution_count": 29,
     "metadata": {},
     "output_type": "execute_result"
    }
   ],
   "source": [
    "string1.strip()"
   ]
  },
  {
   "cell_type": "code",
   "execution_count": 30,
   "id": "14307c32-ec59-4724-a021-b2bf198b180a",
   "metadata": {},
   "outputs": [
    {
     "data": {
      "text/plain": [
       "'python '"
      ]
     },
     "execution_count": 30,
     "metadata": {},
     "output_type": "execute_result"
    }
   ],
   "source": [
    "string1.lstrip()"
   ]
  },
  {
   "cell_type": "code",
   "execution_count": 31,
   "id": "2b46331b-0745-455f-9829-a57079fd3fd5",
   "metadata": {},
   "outputs": [
    {
     "data": {
      "text/plain": [
       "' python'"
      ]
     },
     "execution_count": 31,
     "metadata": {},
     "output_type": "execute_result"
    }
   ],
   "source": [
    "string1.rstrip()"
   ]
  },
  {
   "cell_type": "code",
   "execution_count": 32,
   "id": "48f0c427-63f9-4c7c-a8e9-7ecdd5eb376d",
   "metadata": {},
   "outputs": [
    {
     "data": {
      "text/plain": [
       "'greeting from Raj'"
      ]
     },
     "execution_count": 32,
     "metadata": {},
     "output_type": "execute_result"
    }
   ],
   "source": [
    "string2='greeting to Raj'\n",
    "string2.replace('to','from')"
   ]
  },
  {
   "cell_type": "code",
   "execution_count": 33,
   "id": "913ac5e8-b330-468a-b8be-c669d67a9132",
   "metadata": {},
   "outputs": [
    {
     "data": {
      "text/plain": [
       "'hello   world'"
      ]
     },
     "execution_count": 33,
     "metadata": {},
     "output_type": "execute_result"
    }
   ],
   "source": [
    "'hello \\tworld'.expandtabs()#adds a space where \\t is placed"
   ]
  },
  {
   "cell_type": "code",
   "execution_count": 34,
   "id": "93e125fb-7cb9-4da4-9709-078118948c75",
   "metadata": {},
   "outputs": [],
   "source": [
    "tex1=\"welcome to ata cience\""
   ]
  },
  {
   "cell_type": "code",
   "execution_count": 35,
   "id": "6a429db2-85df-474a-bbf8-5e322e84ba9f",
   "metadata": {},
   "outputs": [
    {
     "data": {
      "text/plain": [
       "'welcome to data science'"
      ]
     },
     "execution_count": 35,
     "metadata": {},
     "output_type": "execute_result"
    }
   ],
   "source": [
    "tex1.replace('ata','data').replace('cience','science')"
   ]
  },
  {
   "cell_type": "code",
   "execution_count": 36,
   "id": "d7bb5ccf-d6a4-472d-b95c-c8f49507c064",
   "metadata": {},
   "outputs": [],
   "source": [
    "tex2='HELLO WORLD'"
   ]
  },
  {
   "cell_type": "code",
   "execution_count": 37,
   "id": "2d217898-2868-41e8-a2cb-b085cb7b228b",
   "metadata": {},
   "outputs": [
    {
     "data": {
      "text/plain": [
       "True"
      ]
     },
     "execution_count": 37,
     "metadata": {},
     "output_type": "execute_result"
    }
   ],
   "source": [
    "tex2.isupper()"
   ]
  },
  {
   "cell_type": "code",
   "execution_count": 44,
   "id": "4198778d-ecb6-44f0-9519-31e5cbc7c281",
   "metadata": {},
   "outputs": [
    {
     "data": {
      "text/plain": [
       "False"
      ]
     },
     "execution_count": 44,
     "metadata": {},
     "output_type": "execute_result"
    }
   ],
   "source": [
    "tex2.islower()"
   ]
  },
  {
   "cell_type": "code",
   "execution_count": 43,
   "id": "bd6e66d2-b3ba-4232-8e4d-1eb5f889a15c",
   "metadata": {},
   "outputs": [
    {
     "data": {
      "text/plain": [
       "False"
      ]
     },
     "execution_count": 43,
     "metadata": {},
     "output_type": "execute_result"
    }
   ],
   "source": [
    "tex2.isalpha() #false cuz of space"
   ]
  },
  {
   "cell_type": "code",
   "execution_count": 41,
   "id": "6bade092-37b0-49a6-b602-c367c867acbd",
   "metadata": {},
   "outputs": [
    {
     "data": {
      "text/plain": [
       "False"
      ]
     },
     "execution_count": 41,
     "metadata": {},
     "output_type": "execute_result"
    }
   ],
   "source": [
    "tex2.isspace()#to check whether the string is empty"
   ]
  },
  {
   "cell_type": "code",
   "execution_count": 42,
   "id": "542e6ccd-fbbf-459d-bb17-497de0e5e3b9",
   "metadata": {},
   "outputs": [
    {
     "data": {
      "text/plain": [
       "False"
      ]
     },
     "execution_count": 42,
     "metadata": {},
     "output_type": "execute_result"
    }
   ],
   "source": [
    "tex2.isalnum()"
   ]
  },
  {
   "cell_type": "code",
   "execution_count": 47,
   "id": "e94fd9b4-f7af-4740-bef6-db1faf8e9fd3",
   "metadata": {},
   "outputs": [
    {
     "data": {
      "text/plain": [
       "True"
      ]
     },
     "execution_count": 47,
     "metadata": {},
     "output_type": "execute_result"
    }
   ],
   "source": [
    "tex2.endswith('D')"
   ]
  },
  {
   "cell_type": "code",
   "execution_count": 48,
   "id": "a1328a7e-a009-41f0-8c6a-2b1017bc5e0f",
   "metadata": {},
   "outputs": [
    {
     "data": {
      "text/plain": [
       "True"
      ]
     },
     "execution_count": 48,
     "metadata": {},
     "output_type": "execute_result"
    }
   ],
   "source": [
    "tex2.startswith('H')"
   ]
  },
  {
   "cell_type": "code",
   "execution_count": 49,
   "id": "8b4d7758-bafb-4f90-8625-1253efbd45db",
   "metadata": {},
   "outputs": [
    {
     "data": {
      "text/plain": [
       "False"
      ]
     },
     "execution_count": 49,
     "metadata": {},
     "output_type": "execute_result"
    }
   ],
   "source": [
    "tex2.isnumeric()"
   ]
  },
  {
   "cell_type": "code",
   "execution_count": 57,
   "id": "de7834fa-1e3b-48a8-915a-8d529c2d0a0f",
   "metadata": {},
   "outputs": [
    {
     "name": "stdout",
     "output_type": "stream",
     "text": [
      "11\n"
     ]
    }
   ],
   "source": [
    "count=0\n",
    "for i in tex2:\n",
    "    count = count+1\n",
    "print(count)"
   ]
  },
  {
   "cell_type": "code",
   "execution_count": 55,
   "id": "6079b0ae-ba25-46ca-93e5-21a10dac33a2",
   "metadata": {},
   "outputs": [
    {
     "data": {
      "text/plain": [
       "11"
      ]
     },
     "execution_count": 55,
     "metadata": {},
     "output_type": "execute_result"
    }
   ],
   "source": [
    "len(tex2)"
   ]
  },
  {
   "cell_type": "code",
   "execution_count": 58,
   "id": "00294072-668b-46bd-a4ab-5d141882548e",
   "metadata": {},
   "outputs": [
    {
     "name": "stdout",
     "output_type": "stream",
     "text": [
      "H\n",
      "E\n",
      "L\n",
      "L\n",
      "O\n",
      " \n",
      "W\n",
      "O\n",
      "R\n",
      "L\n",
      "D\n"
     ]
    }
   ],
   "source": [
    "for i in range(len(tex2)):\n",
    "    print(tex2[i])"
   ]
  },
  {
   "cell_type": "code",
   "execution_count": 60,
   "id": "5fc78d2b-bc8f-4255-8dc7-7a257ca7328b",
   "metadata": {},
   "outputs": [
    {
     "name": "stdout",
     "output_type": "stream",
     "text": [
      "0 = H\n",
      "1 = E\n",
      "2 = L\n",
      "3 = L\n",
      "4 = O\n",
      "5 =  \n",
      "6 = W\n",
      "7 = O\n",
      "8 = R\n",
      "9 = L\n",
      "10 = D\n"
     ]
    }
   ],
   "source": [
    "for i in range(len(tex2)):\n",
    "    print(i,'=',tex2[i])"
   ]
  },
  {
   "cell_type": "code",
   "execution_count": 61,
   "id": "ac588646-fa81-4c0f-9ac7-1b548f3f6f02",
   "metadata": {},
   "outputs": [
    {
     "name": "stdout",
     "output_type": "stream",
     "text": [
      "D\n",
      "L\n",
      "R\n",
      "O\n",
      "W\n",
      " \n",
      "O\n",
      "L\n",
      "L\n",
      "E\n",
      "H\n"
     ]
    }
   ],
   "source": [
    "for i in range(len(tex2)-1,-1,-1):\n",
    "    print(tex2[i])"
   ]
  },
  {
   "cell_type": "code",
   "execution_count": 65,
   "id": "2c54a84f-d993-45db-9b95-0e66a0c687c8",
   "metadata": {},
   "outputs": [
    {
     "name": "stdout",
     "output_type": "stream",
     "text": [
      "n\n",
      "o\n",
      "h\n",
      "t\n",
      "y\n",
      "p\n"
     ]
    }
   ],
   "source": [
    "tex3='python'\n",
    "ch=len(tex3)-1\n",
    "while ch>=0:\n",
    "    print(tex3[ch])\n",
    "    ch=ch-1"
   ]
  },
  {
   "cell_type": "code",
   "execution_count": 66,
   "id": "965a9430-9684-43e6-9f0c-186b66df44a4",
   "metadata": {},
   "outputs": [],
   "source": [
    "vowels='AEIOUaeiou'\n",
    "name='pythonic'"
   ]
  },
  {
   "cell_type": "code",
   "execution_count": 71,
   "id": "34d8519d-706d-4884-8c36-f2b24ae99d6a",
   "metadata": {},
   "outputs": [
    {
     "name": "stdout",
     "output_type": "stream",
     "text": [
      "p is not a vowel\n",
      "y is not a vowel\n",
      "t is not a vowel\n",
      "h is not a vowel\n",
      "o is a vowel\n",
      "n is not a vowel\n",
      "i is a vowel\n",
      "c is not a vowel\n"
     ]
    }
   ],
   "source": [
    "for x in name:\n",
    "    if x in vowels:\n",
    "        print(f'{x} is a vowel')\n",
    "    else:\n",
    "        print (f'{x} is not a vowel')"
   ]
  },
  {
   "cell_type": "markdown",
   "id": "2943ea44-e189-4010-bcc1-ecfbc364e4d8",
   "metadata": {},
   "source": [
    "## List"
   ]
  },
  {
   "cell_type": "code",
   "execution_count": 72,
   "id": "5dc52a95-d423-4141-b521-8ce2805a62eb",
   "metadata": {},
   "outputs": [],
   "source": [
    "j=['raj',1,'py']"
   ]
  },
  {
   "cell_type": "code",
   "execution_count": 73,
   "id": "e1a4879c-8171-4986-9e1a-47d2b28fb2ca",
   "metadata": {},
   "outputs": [
    {
     "data": {
      "text/plain": [
       "list"
      ]
     },
     "execution_count": 73,
     "metadata": {},
     "output_type": "execute_result"
    }
   ],
   "source": [
    "type(j)"
   ]
  },
  {
   "cell_type": "code",
   "execution_count": 84,
   "id": "7f5b37bb-80ab-4c78-b56c-0b6e04222983",
   "metadata": {},
   "outputs": [
    {
     "data": {
      "text/plain": [
       "['p', 'y', 't', 'h', 'o', 'n', ' ', 'i', 's', ' ', 'g', 'r', 'e', 'a', 't']"
      ]
     },
     "execution_count": 84,
     "metadata": {},
     "output_type": "execute_result"
    }
   ],
   "source": [
    "str5='python is great'\n",
    "list(str5)"
   ]
  },
  {
   "cell_type": "code",
   "execution_count": 85,
   "id": "75f545e1-eafc-449a-877e-f24098c846e3",
   "metadata": {},
   "outputs": [],
   "source": [
    "lst=list(str5.split(' '))"
   ]
  },
  {
   "cell_type": "code",
   "execution_count": 86,
   "id": "0de7dfd6-19c8-4bdd-826c-ac7f8a92c29c",
   "metadata": {},
   "outputs": [
    {
     "data": {
      "text/plain": [
       "['python', 'is', 'great']"
      ]
     },
     "execution_count": 86,
     "metadata": {},
     "output_type": "execute_result"
    }
   ],
   "source": [
    "lst"
   ]
  },
  {
   "cell_type": "code",
   "execution_count": 87,
   "id": "97b28d8a-245d-4ed9-ae04-d5f72165b54d",
   "metadata": {},
   "outputs": [],
   "source": [
    "lst[1]='was'"
   ]
  },
  {
   "cell_type": "code",
   "execution_count": 88,
   "id": "3d9c0db0-13bb-4433-9a4d-8bfa847dbaf0",
   "metadata": {},
   "outputs": [
    {
     "data": {
      "text/plain": [
       "['python', 'was', 'great']"
      ]
     },
     "execution_count": 88,
     "metadata": {},
     "output_type": "execute_result"
    }
   ],
   "source": [
    "lst"
   ]
  },
  {
   "cell_type": "code",
   "execution_count": 89,
   "id": "d7e3a6c5-e48e-47df-ac6a-8ad20915ecb2",
   "metadata": {},
   "outputs": [
    {
     "data": {
      "text/plain": [
       "['great', 'was', 'python']"
      ]
     },
     "execution_count": 89,
     "metadata": {},
     "output_type": "execute_result"
    }
   ],
   "source": [
    "lst[::-1]"
   ]
  },
  {
   "cell_type": "code",
   "execution_count": 92,
   "id": "69874527-7c89-45df-b945-f73826b7d92b",
   "metadata": {},
   "outputs": [
    {
     "data": {
      "text/plain": [
       "['python', 'was', 'great', 'is', 'great']"
      ]
     },
     "execution_count": 92,
     "metadata": {},
     "output_type": "execute_result"
    }
   ],
   "source": [
    "## concatenation\n",
    "lst4=lst+['is','great']\n",
    "lst4"
   ]
  },
  {
   "cell_type": "code",
   "execution_count": 93,
   "id": "43fc5c48-cc12-4564-9d0a-8e058c606b3f",
   "metadata": {},
   "outputs": [
    {
     "data": {
      "text/plain": [
       "['python',\n",
       " 'was',\n",
       " 'great',\n",
       " 'is',\n",
       " 'great',\n",
       " 'python',\n",
       " 'was',\n",
       " 'great',\n",
       " 'is',\n",
       " 'great']"
      ]
     },
     "execution_count": 93,
     "metadata": {},
     "output_type": "execute_result"
    }
   ],
   "source": [
    "lst4*2"
   ]
  },
  {
   "cell_type": "code",
   "execution_count": 95,
   "id": "7bfd6bfc-1a40-4f48-897c-ef9d4fd74c75",
   "metadata": {},
   "outputs": [
    {
     "name": "stdout",
     "output_type": "stream",
     "text": [
      "yes\n"
     ]
    }
   ],
   "source": [
    "if 'great' in lst4:\n",
    "    print  ('yes')"
   ]
  },
  {
   "cell_type": "code",
   "execution_count": 98,
   "id": "6a28ff25-6ad6-4b9d-a952-57bae4875716",
   "metadata": {},
   "outputs": [
    {
     "data": {
      "text/plain": [
       "True"
      ]
     },
     "execution_count": 98,
     "metadata": {},
     "output_type": "execute_result"
    }
   ],
   "source": [
    "lst5=[1,2,3,4]\n",
    "4 in lst5"
   ]
  },
  {
   "cell_type": "code",
   "execution_count": 99,
   "id": "fd7cd77e-7c8c-4128-acc4-13a4ff98aebb",
   "metadata": {},
   "outputs": [],
   "source": [
    "lst6=['zebra','monkey','donkey','lion']\n",
    "lst7=[1,2,3,4,5,6,7,8,9]"
   ]
  },
  {
   "cell_type": "code",
   "execution_count": 100,
   "id": "d4f759ef-341d-4641-93e2-02dd0145e23e",
   "metadata": {},
   "outputs": [
    {
     "name": "stdout",
     "output_type": "stream",
     "text": [
      "zebra\n"
     ]
    }
   ],
   "source": [
    "print(max(lst6)) #zebra cuz of ascii value"
   ]
  },
  {
   "cell_type": "code",
   "execution_count": 101,
   "id": "9a070022-1aa6-40f2-9927-7effb43938a4",
   "metadata": {},
   "outputs": [
    {
     "data": {
      "text/plain": [
       "9"
      ]
     },
     "execution_count": 101,
     "metadata": {},
     "output_type": "execute_result"
    }
   ],
   "source": [
    "max(lst7)"
   ]
  },
  {
   "cell_type": "code",
   "execution_count": 102,
   "id": "b6f089db-881d-44c6-b8f2-18854bbb131c",
   "metadata": {},
   "outputs": [
    {
     "data": {
      "text/plain": [
       "1"
      ]
     },
     "execution_count": 102,
     "metadata": {},
     "output_type": "execute_result"
    }
   ],
   "source": [
    "min(lst7)"
   ]
  },
  {
   "cell_type": "code",
   "execution_count": 103,
   "id": "e8881f68-5ff5-4e23-8787-e288786c06c8",
   "metadata": {},
   "outputs": [],
   "source": [
    "lst7.append(10)"
   ]
  },
  {
   "cell_type": "code",
   "execution_count": 104,
   "id": "b7d745a5-76e2-493c-8d69-845869bb31c4",
   "metadata": {},
   "outputs": [
    {
     "data": {
      "text/plain": [
       "[1, 2, 3, 4, 5, 6, 7, 8, 9, 10]"
      ]
     },
     "execution_count": 104,
     "metadata": {},
     "output_type": "execute_result"
    }
   ],
   "source": [
    "lst7"
   ]
  },
  {
   "cell_type": "code",
   "execution_count": 105,
   "id": "ec5d5470-1938-4029-b200-16c4bd7412e1",
   "metadata": {},
   "outputs": [
    {
     "data": {
      "text/plain": [
       "'lion'"
      ]
     },
     "execution_count": 105,
     "metadata": {},
     "output_type": "execute_result"
    }
   ],
   "source": [
    "lst6.pop()"
   ]
  },
  {
   "cell_type": "code",
   "execution_count": 107,
   "id": "ba82a498-9675-46ac-af6e-410ab373015c",
   "metadata": {},
   "outputs": [
    {
     "data": {
      "text/plain": [
       "['zebra', 'monkey', 'donkey']"
      ]
     },
     "execution_count": 107,
     "metadata": {},
     "output_type": "execute_result"
    }
   ],
   "source": [
    "lst6"
   ]
  },
  {
   "cell_type": "code",
   "execution_count": 108,
   "id": "e6206c61-911b-4499-bbca-297b408f206b",
   "metadata": {},
   "outputs": [
    {
     "data": {
      "text/plain": [
       "'monkey'"
      ]
     },
     "execution_count": 108,
     "metadata": {},
     "output_type": "execute_result"
    }
   ],
   "source": [
    "lst6.pop(1)"
   ]
  },
  {
   "cell_type": "code",
   "execution_count": 109,
   "id": "6c6c8c2d-d9be-445c-baab-5c11e7ff9cf5",
   "metadata": {},
   "outputs": [
    {
     "data": {
      "text/plain": [
       "['zebra', 'donkey']"
      ]
     },
     "execution_count": 109,
     "metadata": {},
     "output_type": "execute_result"
    }
   ],
   "source": [
    "lst6"
   ]
  },
  {
   "cell_type": "code",
   "execution_count": null,
   "id": "6eb55d19-3898-4b69-be05-dadb7c9709cd",
   "metadata": {},
   "outputs": [],
   "source": [
    "#sorting and reverse method in list"
   ]
  },
  {
   "cell_type": "code",
   "execution_count": 110,
   "id": "3cb57ddf-ed99-40b6-ae2c-683c78f33337",
   "metadata": {},
   "outputs": [],
   "source": [
    "new_lst=['q','e','f','s','t','u']"
   ]
  },
  {
   "cell_type": "code",
   "execution_count": 111,
   "id": "10bad1f5-c1a9-41de-9273-291d5e49c822",
   "metadata": {},
   "outputs": [],
   "source": [
    "new_lst.reverse()"
   ]
  },
  {
   "cell_type": "code",
   "execution_count": 112,
   "id": "179e86ea-9bd9-4d5e-a603-82a6487d252f",
   "metadata": {},
   "outputs": [
    {
     "data": {
      "text/plain": [
       "['u', 't', 's', 'f', 'e', 'q']"
      ]
     },
     "execution_count": 112,
     "metadata": {},
     "output_type": "execute_result"
    }
   ],
   "source": [
    "new_lst"
   ]
  },
  {
   "cell_type": "code",
   "execution_count": 113,
   "id": "d75f06d0-ff7a-4cad-a9ac-2fc321e350c9",
   "metadata": {},
   "outputs": [],
   "source": [
    "new_lst.sort()"
   ]
  },
  {
   "cell_type": "code",
   "execution_count": 114,
   "id": "7ca782b3-fa96-4f31-af9f-671e870aaac0",
   "metadata": {},
   "outputs": [
    {
     "data": {
      "text/plain": [
       "['e', 'f', 'q', 's', 't', 'u']"
      ]
     },
     "execution_count": 114,
     "metadata": {},
     "output_type": "execute_result"
    }
   ],
   "source": [
    "new_lst"
   ]
  },
  {
   "cell_type": "code",
   "execution_count": 116,
   "id": "d0a03e8e-ee01-4362-b811-ec38a7cb3916",
   "metadata": {},
   "outputs": [],
   "source": [
    "lst9=[1,2,3,4,5]"
   ]
  },
  {
   "cell_type": "code",
   "execution_count": 118,
   "id": "f923009b-a084-4884-b3a3-c37c91e81d2e",
   "metadata": {},
   "outputs": [],
   "source": [
    "lst9.extend([6,7,8])"
   ]
  },
  {
   "cell_type": "code",
   "execution_count": 119,
   "id": "99977349-364f-400d-92a0-e8a11cb75b6c",
   "metadata": {},
   "outputs": [
    {
     "data": {
      "text/plain": [
       "[1, 2, 3, 4, 5, 6, 7, 8]"
      ]
     },
     "execution_count": 119,
     "metadata": {},
     "output_type": "execute_result"
    }
   ],
   "source": [
    "lst9"
   ]
  },
  {
   "cell_type": "code",
   "execution_count": null,
   "id": "b6cd3574-3b1f-4478-8b02-036377cd15d1",
   "metadata": {},
   "outputs": [],
   "source": [
    "## nested list"
   ]
  },
  {
   "cell_type": "code",
   "execution_count": 121,
   "id": "2cbdc386-c27e-4dd3-82a4-176ba929b019",
   "metadata": {},
   "outputs": [],
   "source": [
    "lst1=[1,2,3]\n",
    "lst2=[4,5,6]\n",
    "lst3=[7,8,9]\n",
    "matrix=[lst1,lst2,lst3]"
   ]
  },
  {
   "cell_type": "code",
   "execution_count": 122,
   "id": "76643182-d400-400a-a436-180fe5cb496a",
   "metadata": {},
   "outputs": [
    {
     "data": {
      "text/plain": [
       "[[1, 2, 3], [4, 5, 6], [7, 8, 9]]"
      ]
     },
     "execution_count": 122,
     "metadata": {},
     "output_type": "execute_result"
    }
   ],
   "source": [
    "matrix"
   ]
  },
  {
   "cell_type": "code",
   "execution_count": 123,
   "id": "80a56a80-4c9f-4f2f-b72a-c0fcd023a508",
   "metadata": {},
   "outputs": [
    {
     "data": {
      "text/plain": [
       "8"
      ]
     },
     "execution_count": 123,
     "metadata": {},
     "output_type": "execute_result"
    }
   ],
   "source": [
    "matrix[2][1]"
   ]
  },
  {
   "cell_type": "code",
   "execution_count": 125,
   "id": "7ab4974d-8d04-438f-8248-c298ea8e9b9b",
   "metadata": {},
   "outputs": [
    {
     "data": {
      "text/plain": [
       "[8, 9]"
      ]
     },
     "execution_count": 125,
     "metadata": {},
     "output_type": "execute_result"
    }
   ],
   "source": [
    "matrix[2][1:]"
   ]
  },
  {
   "cell_type": "code",
   "execution_count": null,
   "id": "88b05fae-ce87-449a-972e-1df41b3a035c",
   "metadata": {},
   "outputs": [],
   "source": [
    "#list comprehension"
   ]
  },
  {
   "cell_type": "code",
   "execution_count": 126,
   "id": "ab0362f9-0aed-40d3-8bea-3c69e7185995",
   "metadata": {},
   "outputs": [
    {
     "data": {
      "text/plain": [
       "[0, 1, 2, 3, 4, 5, 6, 7, 8, 9, 10, 11, 12, 13, 14, 15, 16, 17, 18, 19]"
      ]
     },
     "execution_count": 126,
     "metadata": {},
     "output_type": "execute_result"
    }
   ],
   "source": [
    "[i for i in range (20)]"
   ]
  },
  {
   "cell_type": "code",
   "execution_count": 137,
   "id": "7742c70a-b3ee-4e17-9aeb-207205fd30d1",
   "metadata": {},
   "outputs": [
    {
     "data": {
      "text/plain": [
       "['odd',\n",
       " 1,\n",
       " 'odd',\n",
       " 3,\n",
       " 'odd',\n",
       " 5,\n",
       " 'odd',\n",
       " 7,\n",
       " 'odd',\n",
       " 9,\n",
       " 'odd',\n",
       " 11,\n",
       " 'odd',\n",
       " 13,\n",
       " 'odd',\n",
       " 15,\n",
       " 'odd',\n",
       " 17,\n",
       " 'odd',\n",
       " 19]"
      ]
     },
     "execution_count": 137,
     "metadata": {},
     "output_type": "execute_result"
    }
   ],
   "source": [
    "#even numbers\n",
    "[i if i%2!=0 else 'odd' for i in range (0,20)] "
   ]
  },
  {
   "cell_type": "code",
   "execution_count": 142,
   "id": "d1b965fb-0997-4643-b297-4bf5b646f060",
   "metadata": {},
   "outputs": [
    {
     "data": {
      "text/plain": [
       "6"
      ]
     },
     "execution_count": 142,
     "metadata": {},
     "output_type": "execute_result"
    }
   ],
   "source": [
    "lst=[1,2,3,4,5]\n",
    "v=sum([num for num in lst if num%2==0])\n",
    "v"
   ]
  },
  {
   "cell_type": "code",
   "execution_count": 144,
   "id": "53cc9cde-777c-4838-9e21-d390f7519db7",
   "metadata": {},
   "outputs": [
    {
     "data": {
      "text/plain": [
       "[1, 4, 9, 16, 25, 36, 49, 64, 81]"
      ]
     },
     "execution_count": 144,
     "metadata": {},
     "output_type": "execute_result"
    }
   ],
   "source": [
    "lst=[1,2,3,4,5,6,7,8,9]\n",
    "w=[num**2 for num in lst]\n",
    "w"
   ]
  },
  {
   "cell_type": "code",
   "execution_count": 145,
   "id": "9bc92d83-6f17-4379-9d81-8d01eaf18867",
   "metadata": {},
   "outputs": [
    {
     "data": {
      "text/plain": [
       "[1, 2]"
      ]
     },
     "execution_count": 145,
     "metadata": {},
     "output_type": "execute_result"
    }
   ],
   "source": [
    "num=[-1,-2,1,2]\n",
    "[x for x in num if x>0]"
   ]
  },
  {
   "cell_type": "code",
   "execution_count": 146,
   "id": "5783f557-ced4-49aa-a8ce-b586b3f3ac87",
   "metadata": {},
   "outputs": [
    {
     "data": {
      "text/plain": [
       "['a', 'c', 'b']"
      ]
     },
     "execution_count": 146,
     "metadata": {},
     "output_type": "execute_result"
    }
   ],
   "source": [
    "word=['apple','cat','banana']\n",
    "[x[0] for x in word]"
   ]
  },
  {
   "cell_type": "code",
   "execution_count": 151,
   "id": "e33c3c1f-229d-42d4-89cf-f0f59a573a2f",
   "metadata": {},
   "outputs": [],
   "source": [
    "lst10=[[1,2,3],[4,5,6],[7,8,9]]"
   ]
  },
  {
   "cell_type": "code",
   "execution_count": 152,
   "id": "53365205-ad16-4c3a-bbf3-9a2986922d68",
   "metadata": {},
   "outputs": [
    {
     "data": {
      "text/plain": [
       "[1, 2, 3, 4, 5, 6, 7, 8, 9]"
      ]
     },
     "execution_count": 152,
     "metadata": {},
     "output_type": "execute_result"
    }
   ],
   "source": [
    "[i for j in lst10 for i in j]"
   ]
  },
  {
   "cell_type": "code",
   "execution_count": 155,
   "id": "82abe187-c84e-4c6c-83e7-1c5de343d982",
   "metadata": {},
   "outputs": [],
   "source": [
    "numbers=[1,2,3,4,5,6,7,8,9]\n",
    "#list of prime numbers from list, use both code and list comprehension  assignment"
   ]
  },
  {
   "cell_type": "code",
   "execution_count": 158,
   "id": "7b5ebe0f-1de4-4147-8181-c970597e80ca",
   "metadata": {},
   "outputs": [
    {
     "data": {
      "text/plain": [
       "(-1+3j)"
      ]
     },
     "execution_count": 158,
     "metadata": {},
     "output_type": "execute_result"
    }
   ],
   "source": [
    "num1= 23\n",
    "\n",
    "num2= 44\n",
    "\n",
    "num2= 2+3j\n",
    "\n",
    "num1= num2.imag\n",
    "\n",
    "num2-num1"
   ]
  },
  {
   "cell_type": "code",
   "execution_count": 174,
   "id": "3b720a3a-7f27-4333-8fe0-665cb2fe415c",
   "metadata": {},
   "outputs": [
    {
     "data": {
      "text/plain": [
       "'pwskills1'"
      ]
     },
     "execution_count": 174,
     "metadata": {},
     "output_type": "execute_result"
    }
   ],
   "source": [
    "'pwskills'+ str(1)"
   ]
  },
  {
   "cell_type": "code",
   "execution_count": 176,
   "id": "19f703ee-dbb1-4c86-a3d9-0a870dbae0e8",
   "metadata": {},
   "outputs": [
    {
     "data": {
      "text/plain": [
       "True"
      ]
     },
     "execution_count": 176,
     "metadata": {},
     "output_type": "execute_result"
    }
   ],
   "source": [
    "'pwskills'.upper().lower().isalnum()"
   ]
  },
  {
   "cell_type": "code",
   "execution_count": null,
   "id": "9fcc94ed-cbd3-4aae-b150-cc1bc80da130",
   "metadata": {},
   "outputs": [],
   "source": []
  }
 ],
 "metadata": {
  "kernelspec": {
   "display_name": "Python 3 (ipykernel)",
   "language": "python",
   "name": "python3"
  },
  "language_info": {
   "codemirror_mode": {
    "name": "ipython",
    "version": 3
   },
   "file_extension": ".py",
   "mimetype": "text/x-python",
   "name": "python",
   "nbconvert_exporter": "python",
   "pygments_lexer": "ipython3",
   "version": "3.10.8"
  }
 },
 "nbformat": 4,
 "nbformat_minor": 5
}
