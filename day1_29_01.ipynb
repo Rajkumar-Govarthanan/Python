{
 "cells": [
  {
   "cell_type": "code",
   "execution_count": 28,
   "id": "0094672e-a4b1-4abc-b438-d158875f8ba3",
   "metadata": {},
   "outputs": [],
   "source": [
    "a=10"
   ]
  },
  {
   "cell_type": "code",
   "execution_count": 29,
   "id": "60d39021-a935-4ab4-a370-fc02cedc9b80",
   "metadata": {},
   "outputs": [
    {
     "name": "stdout",
     "output_type": "stream",
     "text": [
      "10\n"
     ]
    }
   ],
   "source": [
    "print(a)"
   ]
  },
  {
   "cell_type": "code",
   "execution_count": 30,
   "id": "5d7de98b-1a68-433c-82f8-0d9ccb7bda8b",
   "metadata": {},
   "outputs": [],
   "source": [
    "b=5"
   ]
  },
  {
   "cell_type": "code",
   "execution_count": 31,
   "id": "f17f952e-f3e3-4a47-afeb-c09fa3c670e4",
   "metadata": {},
   "outputs": [
    {
     "data": {
      "text/plain": [
       "15"
      ]
     },
     "execution_count": 31,
     "metadata": {},
     "output_type": "execute_result"
    }
   ],
   "source": [
    "a+b"
   ]
  },
  {
   "cell_type": "code",
   "execution_count": 35,
   "id": "655d41e8-574e-4ac6-a135-27e81d72ffc3",
   "metadata": {},
   "outputs": [
    {
     "data": {
      "text/plain": [
       "1"
      ]
     },
     "execution_count": 35,
     "metadata": {},
     "output_type": "execute_result"
    }
   ],
   "source": [
    "int(1.99)"
   ]
  },
  {
   "cell_type": "code",
   "execution_count": null,
   "id": "67eb91f4-7091-4ff7-859a-7cdc6d0d7463",
   "metadata": {},
   "outputs": [],
   "source": [
    "#shift enter to run current cell nd goes to next cell"
   ]
  },
  {
   "cell_type": "code",
   "execution_count": null,
   "id": "3ec93f44-f748-4986-8c7c-cff733fe9ec2",
   "metadata": {},
   "outputs": [
    {
     "data": {
      "text/plain": [
       "'triple quotes or  doc string is for multi line comments'"
      ]
     },
     "execution_count": 8,
     "metadata": {},
     "output_type": "execute_result"
    }
   ],
   "source": [
    "# is for comments\n",
    "\"\"\"triple quotes or  doc string is used for multi line comments\"\"\""
   ]
  },
  {
   "cell_type": "code",
   "execution_count": 9,
   "id": "0942e17c-9195-4b6f-8c6f-18e8a61864b1",
   "metadata": {},
   "outputs": [
    {
     "name": "stdout",
     "output_type": "stream",
     "text": [
      "hello\n",
      " world\n"
     ]
    }
   ],
   "source": [
    "print(\"hello\\n world\")"
   ]
  },
  {
   "cell_type": "markdown",
   "id": "80c74aa2-1c02-49af-a324-048bfdb03997",
   "metadata": {},
   "source": [
    "# markdown - used for title or headline or description"
   ]
  },
  {
   "cell_type": "markdown",
   "id": "d898db4a-78c6-43ac-90fb-1977a51c2870",
   "metadata": {},
   "source": [
    "## numbers"
   ]
  },
  {
   "cell_type": "markdown",
   "id": "41720f42-6497-42f9-bc92-8c384766045e",
   "metadata": {},
   "source": [
    "## variable assignment"
   ]
  },
  {
   "cell_type": "code",
   "execution_count": 11,
   "id": "e2fec938-56fc-4dee-8e19-4aed93f5eb44",
   "metadata": {},
   "outputs": [],
   "source": [
    "name =\"raj\""
   ]
  },
  {
   "cell_type": "code",
   "execution_count": 12,
   "id": "75a2e1d1-b63f-4f53-9e69-eab96551dceb",
   "metadata": {},
   "outputs": [
    {
     "data": {
      "text/plain": [
       "'raj'"
      ]
     },
     "execution_count": 12,
     "metadata": {},
     "output_type": "execute_result"
    }
   ],
   "source": [
    "name"
   ]
  },
  {
   "cell_type": "code",
   "execution_count": 13,
   "id": "972554c2-0748-4ac7-93b3-a2675049896a",
   "metadata": {},
   "outputs": [
    {
     "data": {
      "text/plain": [
       "str"
      ]
     },
     "execution_count": 13,
     "metadata": {},
     "output_type": "execute_result"
    }
   ],
   "source": [
    "type (name)"
   ]
  },
  {
   "cell_type": "code",
   "execution_count": 14,
   "id": "6610bf1f-2743-4180-991a-5ecf4b38b7de",
   "metadata": {},
   "outputs": [],
   "source": [
    "deci=2.5"
   ]
  },
  {
   "cell_type": "code",
   "execution_count": 15,
   "id": "1c85b6e6-dad5-4727-9406-d3c5782500bc",
   "metadata": {},
   "outputs": [
    {
     "data": {
      "text/plain": [
       "float"
      ]
     },
     "execution_count": 15,
     "metadata": {},
     "output_type": "execute_result"
    }
   ],
   "source": [
    "type(deci)"
   ]
  },
  {
   "cell_type": "code",
   "execution_count": 16,
   "id": "8036075a-9b57-482e-9f43-2591bafe60b1",
   "metadata": {},
   "outputs": [
    {
     "data": {
      "text/plain": [
       "complex"
      ]
     },
     "execution_count": 16,
     "metadata": {},
     "output_type": "execute_result"
    }
   ],
   "source": [
    "type(2+3j)"
   ]
  },
  {
   "cell_type": "code",
   "execution_count": 17,
   "id": "34f5a8e8-ca3a-4181-8ba8-0c47f12d19d3",
   "metadata": {},
   "outputs": [],
   "source": [
    "# rules\n",
    "#dont start variable name with number\n",
    "#variables are case sensitive\n",
    "#should not use reserved keywords such as int str float"
   ]
  },
  {
   "cell_type": "code",
   "execution_count": 20,
   "id": "85275623-d8f8-4194-9d9a-be72af3bd799",
   "metadata": {},
   "outputs": [
    {
     "data": {
      "text/plain": [
       "False"
      ]
     },
     "execution_count": 20,
     "metadata": {},
     "output_type": "execute_result"
    }
   ],
   "source": [
    "True and False"
   ]
  },
  {
   "cell_type": "code",
   "execution_count": 21,
   "id": "1ec19afb-851f-49b8-99d7-7233e5d24831",
   "metadata": {},
   "outputs": [
    {
     "data": {
      "text/plain": [
       "True"
      ]
     },
     "execution_count": 21,
     "metadata": {},
     "output_type": "execute_result"
    }
   ],
   "source": [
    "True or False"
   ]
  },
  {
   "cell_type": "code",
   "execution_count": 23,
   "id": "21df0564-d40f-44b4-9790-cdde19cdc211",
   "metadata": {},
   "outputs": [
    {
     "data": {
      "text/plain": [
       "False"
      ]
     },
     "execution_count": 23,
     "metadata": {},
     "output_type": "execute_result"
    }
   ],
   "source": [
    "not True"
   ]
  },
  {
   "cell_type": "markdown",
   "id": "6b99ac4c-9875-4ba3-8b08-3eed14dd9206",
   "metadata": {},
   "source": [
    "## type casting"
   ]
  },
  {
   "cell_type": "code",
   "execution_count": 25,
   "id": "a0216bb4-f620-40b8-8ffe-f8fc38864cb4",
   "metadata": {},
   "outputs": [
    {
     "data": {
      "text/plain": [
       "int"
      ]
     },
     "execution_count": 25,
     "metadata": {},
     "output_type": "execute_result"
    }
   ],
   "source": [
    "a=23\n",
    "type(a)"
   ]
  },
  {
   "cell_type": "code",
   "execution_count": 26,
   "id": "2779f25a-7bf7-4856-b55b-ae56d2b4d672",
   "metadata": {},
   "outputs": [
    {
     "data": {
      "text/plain": [
       "str"
      ]
     },
     "execution_count": 26,
     "metadata": {},
     "output_type": "execute_result"
    }
   ],
   "source": [
    "b=str(a)\n",
    "type(b)"
   ]
  },
  {
   "cell_type": "markdown",
   "id": "8a66a7a2-4200-4eea-bbd3-cd5511e15558",
   "metadata": {},
   "source": [
    "## dynamic typing"
   ]
  },
  {
   "cell_type": "code",
   "execution_count": null,
   "id": "085cb526-999e-4f7f-a242-debf39883f73",
   "metadata": {},
   "outputs": [],
   "source": [
    "#no need to define the type of variable"
   ]
  }
 ],
 "metadata": {
  "kernelspec": {
   "display_name": "Python 3 (ipykernel)",
   "language": "python",
   "name": "python3"
  },
  "language_info": {
   "codemirror_mode": {
    "name": "ipython",
    "version": 3
   },
   "file_extension": ".py",
   "mimetype": "text/x-python",
   "name": "python",
   "nbconvert_exporter": "python",
   "pygments_lexer": "ipython3",
   "version": "3.10.8"
  }
 },
 "nbformat": 4,
 "nbformat_minor": 5
}
