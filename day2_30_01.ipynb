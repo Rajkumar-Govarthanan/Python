{
 "cells": [
  {
   "cell_type": "code",
   "execution_count": 16,
   "id": "21432940-75ce-43ee-aa48-3d5262fd8445",
   "metadata": {},
   "outputs": [
    {
     "name": "stdout",
     "output_type": "stream",
     "text": [
      "Hello world\n"
     ]
    }
   ],
   "source": [
    "print('Hello world')"
   ]
  },
  {
   "cell_type": "code",
   "execution_count": 17,
   "id": "093bc81d-1f87-4d3b-9639-e51caf73641a",
   "metadata": {},
   "outputs": [
    {
     "name": "stdout",
     "output_type": "stream",
     "text": [
      "my age is: 27\n"
     ]
    }
   ],
   "source": [
    "age=27\n",
    "print('my age is:',age)"
   ]
  },
  {
   "cell_type": "code",
   "execution_count": 18,
   "id": "bede6f12-44df-4762-8801-f7b93a12aee9",
   "metadata": {},
   "outputs": [
    {
     "name": "stdout",
     "output_type": "stream",
     "text": [
      "my age is: 27\n"
     ]
    }
   ],
   "source": [
    "#f string\n",
    "print(f'my age is: {age}')"
   ]
  },
  {
   "cell_type": "code",
   "execution_count": 19,
   "id": "2ed685ed-3243-4bc0-aaf9-903f9a46b70f",
   "metadata": {},
   "outputs": [
    {
     "name": "stdout",
     "output_type": "stream",
     "text": [
      "my age is 27\n"
     ]
    }
   ],
   "source": [
    "print('my age is {}'.format(age))"
   ]
  },
  {
   "cell_type": "code",
   "execution_count": 20,
   "id": "eeea0b0d-6510-438c-9030-c43f634e1b32",
   "metadata": {},
   "outputs": [],
   "source": [
    "name = 'Raj'"
   ]
  },
  {
   "cell_type": "code",
   "execution_count": 21,
   "id": "1ef2c180-add1-44d3-872f-24285f97a21a",
   "metadata": {},
   "outputs": [
    {
     "name": "stdout",
     "output_type": "stream",
     "text": [
      "my name is Raj and age is 27\n"
     ]
    }
   ],
   "source": [
    "print('my name is {} and age is {}'.format(name,age))"
   ]
  },
  {
   "cell_type": "code",
   "execution_count": 22,
   "id": "866e295d-5cc9-4e16-9e1a-fc7f2b3819ca",
   "metadata": {},
   "outputs": [
    {
     "name": "stdout",
     "output_type": "stream",
     "text": [
      "my name is Raj and age is 27\n"
     ]
    }
   ],
   "source": [
    "#place holder\n",
    "print('my name is {firstname} and age is {firstage}'.format(firstname=name,firstage=age))"
   ]
  },
  {
   "cell_type": "code",
   "execution_count": 23,
   "id": "db71c0eb-5379-435f-a761-f7e255a3f856",
   "metadata": {},
   "outputs": [
    {
     "name": "stdout",
     "output_type": "stream",
     "text": [
      "my age is 27 and i have complete degree B-Tech with the name of Rajkumar\n"
     ]
    }
   ],
   "source": [
    "Name = 'Rajkumar'\n",
    "Age = 27\n",
    "Degree = 'B-Tech'\n",
    "print('my age is {Fage} and i have complete degree {Fdeg} with the name of {Fname}'.format(Fname=Name,Fage=Age,Fdeg=Degree))"
   ]
  },
  {
   "cell_type": "markdown",
   "id": "aa9717b6-391a-4bcc-8efe-f8258339981f",
   "metadata": {},
   "source": [
    "## control flow"
   ]
  },
  {
   "cell_type": "code",
   "execution_count": 24,
   "id": "29889a53-e23f-4b23-aba1-f19540c30091",
   "metadata": {},
   "outputs": [],
   "source": [
    "# if, \n",
    "#if else,\n",
    "#if elif else,\n",
    "#nested if,\n",
    "#single statement suites"
   ]
  },
  {
   "cell_type": "code",
   "execution_count": null,
   "id": "fe5e65b1-5648-40a5-9b79-a8d22ef7a5cd",
   "metadata": {},
   "outputs": [],
   "source": [
    "#==(equal to),>=(greater than or equal to),<=(lesser than or equal to)"
   ]
  },
  {
   "cell_type": "code",
   "execution_count": 25,
   "id": "6851929e-b5b2-47e3-bcf4-93dd550d1ef9",
   "metadata": {},
   "outputs": [
    {
     "name": "stdout",
     "output_type": "stream",
     "text": [
      "you are eligible to vote\n"
     ]
    }
   ],
   "source": [
    "#if\n",
    "age=18\n",
    "if age >=18:\n",
    "    print ('you are eligible to vote')"
   ]
  },
  {
   "cell_type": "code",
   "execution_count": 27,
   "id": "ac86ba41-2006-43f5-853a-83da1f4f0899",
   "metadata": {},
   "outputs": [
    {
     "name": "stdin",
     "output_type": "stream",
     "text": [
      "enter the name raj\n"
     ]
    }
   ],
   "source": [
    "name = input('enter the name')"
   ]
  },
  {
   "cell_type": "code",
   "execution_count": 28,
   "id": "d7ea66fd-b6ff-46be-b9fb-ea2e93b1e2c1",
   "metadata": {},
   "outputs": [
    {
     "data": {
      "text/plain": [
       "'raj'"
      ]
     },
     "execution_count": 28,
     "metadata": {},
     "output_type": "execute_result"
    }
   ],
   "source": [
    "name"
   ]
  },
  {
   "cell_type": "code",
   "execution_count": 29,
   "id": "d15225d4-a2f3-4a59-bfea-8482b7df875c",
   "metadata": {},
   "outputs": [
    {
     "name": "stdin",
     "output_type": "stream",
     "text": [
      "enter your age  27\n"
     ]
    }
   ],
   "source": [
    "age = int(input('enter your age '))"
   ]
  },
  {
   "cell_type": "code",
   "execution_count": 30,
   "id": "e15706c3-9682-463c-971a-0361ce3c5b23",
   "metadata": {},
   "outputs": [
    {
     "data": {
      "text/plain": [
       "27"
      ]
     },
     "execution_count": 30,
     "metadata": {},
     "output_type": "execute_result"
    }
   ],
   "source": [
    "age"
   ]
  },
  {
   "cell_type": "code",
   "execution_count": 31,
   "id": "84d6efe4-f9a3-44d2-9134-c34ff4b4f2d0",
   "metadata": {},
   "outputs": [
    {
     "data": {
      "text/plain": [
       "int"
      ]
     },
     "execution_count": 31,
     "metadata": {},
     "output_type": "execute_result"
    }
   ],
   "source": [
    "type(age)"
   ]
  },
  {
   "cell_type": "code",
   "execution_count": 32,
   "id": "5d50e87b-9ec2-47a6-8e9e-bd254b3cb987",
   "metadata": {},
   "outputs": [],
   "source": [
    "## task\n",
    "#take input of age\n",
    "#check whether age >=18 and age <=45\n",
    "#display a message you are young blood"
   ]
  },
  {
   "cell_type": "code",
   "execution_count": 39,
   "id": "08d8bc47-0186-48e4-92e1-f4394388a594",
   "metadata": {},
   "outputs": [
    {
     "name": "stdin",
     "output_type": "stream",
     "text": [
      "enter the age 27\n"
     ]
    },
    {
     "name": "stdout",
     "output_type": "stream",
     "text": [
      "you are young blood\n"
     ]
    }
   ],
   "source": [
    "age = int(input('enter the age'))\n",
    "if age >=18 and age <=45:\n",
    "    print ('you are young blood')"
   ]
  },
  {
   "cell_type": "code",
   "execution_count": null,
   "id": "5efea8dd-2b02-4920-bd99-9efde09a054b",
   "metadata": {},
   "outputs": [],
   "source": [
    "## if else"
   ]
  },
  {
   "cell_type": "code",
   "execution_count": 40,
   "id": "7a210cdd-0026-4437-8321-dcb6bf5c5595",
   "metadata": {},
   "outputs": [
    {
     "name": "stdin",
     "output_type": "stream",
     "text": [
      "enter the age 46\n"
     ]
    },
    {
     "name": "stdout",
     "output_type": "stream",
     "text": [
      "thank you, we will let you know\n"
     ]
    }
   ],
   "source": [
    "age = int(input('enter the age'))\n",
    "if age >=18 and age <=45:\n",
    "    print ('you are young blood')\n",
    "else:\n",
    "    print ('thank you, we will let you know')\n",
    "        "
   ]
  },
  {
   "cell_type": "code",
   "execution_count": null,
   "id": "bec486f0-2e9a-4e4d-ad26-685937ebcc22",
   "metadata": {},
   "outputs": [],
   "source": [
    "##task\n",
    "#input product price \n",
    "#discount of 20% if product price > 1000\n",
    "#product <=1000rs 30% off\n",
    "#print product price after removing the discount"
   ]
  },
  {
   "cell_type": "code",
   "execution_count": 41,
   "id": "70d4c598-e713-4e84-9438-5fbe30ede0a1",
   "metadata": {},
   "outputs": [
    {
     "name": "stdin",
     "output_type": "stream",
     "text": [
      "enter the price 1000\n"
     ]
    },
    {
     "name": "stdout",
     "output_type": "stream",
     "text": [
      "the price of the product is 700.0\n"
     ]
    }
   ],
   "source": [
    "product_price = int(input('enter the price'))\n",
    "if product_price >1000:\n",
    "    print ('the price of the product is {}'.format(product_price*0.8))\n",
    "else:\n",
    "    print ('the price of the product is {}'.format(product_price*0.7))"
   ]
  },
  {
   "cell_type": "code",
   "execution_count": 45,
   "id": "a987285a-c944-4777-a3d1-30c4cb81015a",
   "metadata": {},
   "outputs": [],
   "source": [
    "#elif and nested if"
   ]
  },
  {
   "cell_type": "code",
   "execution_count": 49,
   "id": "d3895a67-9d52-40b0-a21e-eed5acae8757",
   "metadata": {},
   "outputs": [
    {
     "name": "stdin",
     "output_type": "stream",
     "text": [
      "enter the price 2999\n"
     ]
    },
    {
     "name": "stdout",
     "output_type": "stream",
     "text": [
      "the price of the product is 2099.2999999999997\n",
      "congratulations you get additional gift\n"
     ]
    }
   ],
   "source": [
    "product_price = int(input('enter the price'))\n",
    "if product_price >3000:\n",
    "    print ('the price of the product is {}'.format(product_price*0.8))\n",
    "elif product_price >= 2000 and product_price <=3000:\n",
    "    print ('the price of the product is {}'.format(product_price*0.7))\n",
    "    if product_price==2999:\n",
    "        print('congratulations you get additional gift')\n",
    "else:\n",
    "    print ('the price of the product is {}'.format(product_price*0.6))"
   ]
  },
  {
   "cell_type": "code",
   "execution_count": null,
   "id": "e8010a27-84b7-44ce-b5c3-4e601c645c1f",
   "metadata": {},
   "outputs": [],
   "source": [
    "#single statement suite"
   ]
  },
  {
   "cell_type": "code",
   "execution_count": 52,
   "id": "b2369e83-2b98-46cb-aff4-82aa7597545f",
   "metadata": {},
   "outputs": [
    {
     "name": "stdin",
     "output_type": "stream",
     "text": [
      "enter the number 1000\n"
     ]
    },
    {
     "name": "stdout",
     "output_type": "stream",
     "text": [
      "bye\n"
     ]
    }
   ],
   "source": [
    "val=int(input('enter the number'))\n",
    "if (val<=999):print('hello')\n",
    "else:print('bye')"
   ]
  },
  {
   "cell_type": "markdown",
   "id": "ae2359fb-6393-44f9-86ea-a5cacdd66426",
   "metadata": {},
   "source": [
    "## loops"
   ]
  },
  {
   "cell_type": "code",
   "execution_count": null,
   "id": "9d64ab01-a411-45bc-a836-9d7154872b8b",
   "metadata": {},
   "outputs": [],
   "source": [
    "#loops\n",
    "#while\n",
    "#for\n",
    "#nested loops\n",
    "#loop control (break, continue, pass)"
   ]
  },
  {
   "cell_type": "code",
   "execution_count": 60,
   "id": "76d37759-05d0-4ac9-9cc1-a3418309135e",
   "metadata": {},
   "outputs": [
    {
     "name": "stdout",
     "output_type": "stream",
     "text": [
      "26\n",
      "27\n",
      "28\n",
      "29\n",
      "30\n",
      "31\n",
      "32\n",
      "33\n",
      "34\n",
      "35\n",
      "36\n",
      "37\n",
      "38\n",
      "39\n",
      "40\n",
      "41\n",
      "42\n",
      "43\n",
      "44\n",
      "45\n",
      "46\n",
      "47\n",
      "48\n",
      "49\n",
      "50\n",
      "51\n",
      "52\n",
      "53\n",
      "54\n",
      "55\n",
      "56\n",
      "57\n",
      "58\n",
      "59\n",
      "60\n",
      "its time for retirement\n"
     ]
    }
   ],
   "source": [
    "#while loop\n",
    "joining_age =25\n",
    "while joining_age <60:\n",
    "    joining_age = joining_age+1\n",
    "    print(joining_age)\n",
    "else:\n",
    "    print('its time for retirement')"
   ]
  },
  {
   "cell_type": "code",
   "execution_count": 61,
   "id": "c19b148f-501a-46c1-90de-65a40a22cd75",
   "metadata": {},
   "outputs": [
    {
     "name": "stdout",
     "output_type": "stream",
     "text": [
      "1000\n",
      "900\n",
      "800\n",
      "700\n",
      "600\n",
      "500\n",
      "400\n",
      "300\n",
      "200\n",
      "100\n",
      "put more money bank people\n"
     ]
    }
   ],
   "source": [
    "#atm machine with 1000rs\n",
    "total_amt=1000\n",
    "while total_amt !=0:\n",
    "    print(total_amt)\n",
    "    total_amt=total_amt-100\n",
    "else:\n",
    "    print('put more money bank people')\n",
    "    "
   ]
  },
  {
   "cell_type": "markdown",
   "id": "14f5002b-68cb-42fa-a0e5-95e8d97aeb36",
   "metadata": {},
   "source": [
    "# for loops"
   ]
  },
  {
   "cell_type": "code",
   "execution_count": 66,
   "id": "5e328962-2ba6-4886-b620-81de2d6e4fbe",
   "metadata": {},
   "outputs": [
    {
     "data": {
      "text/plain": [
       "list"
      ]
     },
     "execution_count": 66,
     "metadata": {},
     "output_type": "execute_result"
    }
   ],
   "source": [
    "\n",
    "lst=['raj',1,2,3,4,'apple','banana']\n",
    "type(lst)"
   ]
  },
  {
   "cell_type": "code",
   "execution_count": 67,
   "id": "f0e99129-632f-4003-86d1-5d19ce6f550d",
   "metadata": {},
   "outputs": [
    {
     "data": {
      "text/plain": [
       "'raj'"
      ]
     },
     "execution_count": 67,
     "metadata": {},
     "output_type": "execute_result"
    }
   ],
   "source": [
    "lst[0]"
   ]
  },
  {
   "cell_type": "code",
   "execution_count": 68,
   "id": "2e54268d-2984-4c10-a8e7-ad7ceeeeb2d4",
   "metadata": {},
   "outputs": [
    {
     "data": {
      "text/plain": [
       "['raj', 1, 2, 3, 4, 'apple', 'banana']"
      ]
     },
     "execution_count": 68,
     "metadata": {},
     "output_type": "execute_result"
    }
   ],
   "source": [
    "lst"
   ]
  },
  {
   "cell_type": "code",
   "execution_count": 69,
   "id": "6002a19d-117b-4d72-b060-d098541c29ea",
   "metadata": {},
   "outputs": [
    {
     "name": "stdout",
     "output_type": "stream",
     "text": [
      "raj\n",
      "1\n",
      "2\n",
      "3\n",
      "4\n",
      "apple\n",
      "banana\n"
     ]
    }
   ],
   "source": [
    "for x in lst:\n",
    "    print(x)"
   ]
  },
  {
   "cell_type": "code",
   "execution_count": 71,
   "id": "f91bd34a-2128-4d19-be4e-737518f5149b",
   "metadata": {},
   "outputs": [],
   "source": [
    "fruits_list=['mango','cherry','apple','papaya','banana']"
   ]
  },
  {
   "cell_type": "code",
   "execution_count": 76,
   "id": "2dbfd0a3-4ff4-49bd-a7c4-533fec351de4",
   "metadata": {},
   "outputs": [
    {
     "name": "stdout",
     "output_type": "stream",
     "text": [
      "mango , cherry , the fruit is cherry\n",
      "apple , papaya , banana , "
     ]
    }
   ],
   "source": [
    "for a in fruits_list:\n",
    "    print(a,end=' , ')\n",
    "    if a=='cherry':\n",
    "        print('the fruit is cherry')"
   ]
  },
  {
   "cell_type": "code",
   "execution_count": 77,
   "id": "99227ea3-952d-4b24-86bf-7a8669f184e2",
   "metadata": {},
   "outputs": [
    {
     "name": "stdout",
     "output_type": "stream",
     "text": [
      "m\n",
      "a\n",
      "n\n",
      "g\n",
      "o\n"
     ]
    }
   ],
   "source": [
    "fruit = 'mango'\n",
    "for x in fruit:\n",
    "    print(x)"
   ]
  },
  {
   "cell_type": "code",
   "execution_count": 78,
   "id": "2e263d0e-2c93-4531-8f95-053dd7aaacd1",
   "metadata": {},
   "outputs": [
    {
     "data": {
      "text/plain": [
       "'n'"
      ]
     },
     "execution_count": 78,
     "metadata": {},
     "output_type": "execute_result"
    }
   ],
   "source": [
    "fruit[2]"
   ]
  },
  {
   "cell_type": "code",
   "execution_count": 84,
   "id": "4b503144-9f02-41a0-83de-eef4e0a46ac3",
   "metadata": {},
   "outputs": [
    {
     "name": "stdout",
     "output_type": "stream",
     "text": [
      "*\n",
      "**\n",
      "***\n",
      "****\n",
      "*****\n",
      "******\n",
      "*******\n"
     ]
    }
   ],
   "source": [
    "#nested loop\n",
    "n=7\n",
    "\n",
    "for i in range (0,n):\n",
    "    for j in range (0,i+1):\n",
    "        print('*', end='')\n",
    "    print ('\\r')\n"
   ]
  },
  {
   "cell_type": "code",
   "execution_count": 86,
   "id": "a13d1e32-0d22-4359-ac1d-91597b9bd246",
   "metadata": {},
   "outputs": [
    {
     "name": "stdout",
     "output_type": "stream",
     "text": [
      "0\n",
      "2\n",
      "4\n",
      "6\n",
      "8\n"
     ]
    }
   ],
   "source": [
    "for i in range (0,10,2):\n",
    "    print(i)"
   ]
  },
  {
   "cell_type": "code",
   "execution_count": null,
   "id": "fd52c554-82a2-4da4-8bd0-c8d31264d5ee",
   "metadata": {},
   "outputs": [],
   "source": [
    "#loop control\n",
    "## break and continue"
   ]
  },
  {
   "cell_type": "code",
   "execution_count": 88,
   "id": "31cb3728-78bf-4d8a-870d-a8f9d7323a02",
   "metadata": {},
   "outputs": [],
   "source": [
    "fruits_list=['mango','cherry','apple','papaya','banana']"
   ]
  },
  {
   "cell_type": "code",
   "execution_count": 90,
   "id": "bc941ef6-2c89-4178-ba07-cf73994f9d95",
   "metadata": {},
   "outputs": [
    {
     "name": "stdout",
     "output_type": "stream",
     "text": [
      "mango\n",
      "cherry\n",
      "the fruit is apple\n"
     ]
    }
   ],
   "source": [
    "for i in fruits_list:\n",
    "    if i=='apple':\n",
    "        print('the fruit is apple')\n",
    "        break\n",
    "    print(i)"
   ]
  },
  {
   "cell_type": "code",
   "execution_count": 91,
   "id": "9c946d4a-54a2-4c6a-84e9-db92dd29fe86",
   "metadata": {},
   "outputs": [
    {
     "name": "stdout",
     "output_type": "stream",
     "text": [
      "mango\n",
      "cherry\n",
      "the fruit is apple\n",
      "apple\n",
      "papaya\n",
      "banana\n"
     ]
    }
   ],
   "source": [
    "for i in fruits_list:\n",
    "    if i=='apple':\n",
    "        print('the fruit is apple')\n",
    "        pass\n",
    "    print(i)"
   ]
  },
  {
   "cell_type": "code",
   "execution_count": 92,
   "id": "3c0bb8ab-aa3c-4f3f-8e5c-416bac4eb4d4",
   "metadata": {},
   "outputs": [
    {
     "name": "stdout",
     "output_type": "stream",
     "text": [
      "mango\n",
      "cherry\n",
      "the fruit is apple\n",
      "papaya\n",
      "banana\n"
     ]
    }
   ],
   "source": [
    "for i in fruits_list:\n",
    "    if i=='apple':\n",
    "        print('the fruit is apple')\n",
    "        continue\n",
    "    print(i)"
   ]
  },
  {
   "cell_type": "code",
   "execution_count": null,
   "id": "7aa3af8d-56f5-42b9-a1eb-3b999b9919f1",
   "metadata": {},
   "outputs": [],
   "source": []
  },
  {
   "cell_type": "code",
   "execution_count": null,
   "id": "33bd13e3-aa48-4b6f-ba12-d4e08c7ba7e6",
   "metadata": {},
   "outputs": [],
   "source": []
  }
 ],
 "metadata": {
  "kernelspec": {
   "display_name": "Python 3 (ipykernel)",
   "language": "python",
   "name": "python3"
  },
  "language_info": {
   "codemirror_mode": {
    "name": "ipython",
    "version": 3
   },
   "file_extension": ".py",
   "mimetype": "text/x-python",
   "name": "python",
   "nbconvert_exporter": "python",
   "pygments_lexer": "ipython3",
   "version": "3.10.8"
  }
 },
 "nbformat": 4,
 "nbformat_minor": 5
}
