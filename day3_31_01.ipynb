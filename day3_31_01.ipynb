{
 "cells": [
  {
   "cell_type": "markdown",
   "id": "27b912f0-f1f9-451c-8a6b-60c78ef4c9ef",
   "metadata": {},
   "source": [
    "## logical operators\n",
    "# and or not"
   ]
  },
  {
   "cell_type": "code",
   "execution_count": 1,
   "id": "b19c07c4-4d4d-4e23-9298-3a3c7a0419a0",
   "metadata": {},
   "outputs": [
    {
     "data": {
      "text/plain": [
       "'and - false is priority\\nor - true is priority\\nnot - inverse '"
      ]
     },
     "execution_count": 1,
     "metadata": {},
     "output_type": "execute_result"
    }
   ],
   "source": [
    "'''and - false is priority\n",
    "or - true is priority\n",
    "not - inverse '''"
   ]
  },
  {
   "cell_type": "code",
   "execution_count": 2,
   "id": "d4804c08-7e08-4701-88ce-938e4b0ac3c5",
   "metadata": {},
   "outputs": [
    {
     "data": {
      "text/plain": [
       "True"
      ]
     },
     "execution_count": 2,
     "metadata": {},
     "output_type": "execute_result"
    }
   ],
   "source": [
    "not 0"
   ]
  },
  {
   "cell_type": "code",
   "execution_count": 3,
   "id": "503a38a3-cafb-444d-a119-a9c4ba6c5722",
   "metadata": {},
   "outputs": [
    {
     "data": {
      "text/plain": [
       "True"
      ]
     },
     "execution_count": 3,
     "metadata": {},
     "output_type": "execute_result"
    }
   ],
   "source": [
    "bool(-5)"
   ]
  },
  {
   "cell_type": "code",
   "execution_count": 4,
   "id": "1ac8fa5a-ad02-45a1-976a-dba04e919716",
   "metadata": {},
   "outputs": [
    {
     "data": {
      "text/plain": [
       "False"
      ]
     },
     "execution_count": 4,
     "metadata": {},
     "output_type": "execute_result"
    }
   ],
   "source": [
    "not bool(-5)"
   ]
  },
  {
   "cell_type": "code",
   "execution_count": 5,
   "id": "fb29502e-fdc3-43bc-9dc7-b52cf51b17e3",
   "metadata": {},
   "outputs": [
    {
     "data": {
      "text/plain": [
       "False"
      ]
     },
     "execution_count": 5,
     "metadata": {},
     "output_type": "execute_result"
    }
   ],
   "source": [
    "bool(0)"
   ]
  },
  {
   "cell_type": "code",
   "execution_count": 6,
   "id": "cd971cdf-b4a1-4273-bd38-6983623b480a",
   "metadata": {},
   "outputs": [
    {
     "data": {
      "text/plain": [
       "True"
      ]
     },
     "execution_count": 6,
     "metadata": {},
     "output_type": "execute_result"
    }
   ],
   "source": [
    "not bool(0)"
   ]
  },
  {
   "cell_type": "code",
   "execution_count": 7,
   "id": "586acd4a-472c-49f8-8a79-8118c3a7c577",
   "metadata": {},
   "outputs": [
    {
     "data": {
      "text/plain": [
       "1"
      ]
     },
     "execution_count": 7,
     "metadata": {},
     "output_type": "execute_result"
    }
   ],
   "source": [
    "True * True"
   ]
  },
  {
   "cell_type": "code",
   "execution_count": 10,
   "id": "f7cfd7e5-f2d2-4f20-bbc1-9665f96c6949",
   "metadata": {},
   "outputs": [
    {
     "data": {
      "text/plain": [
       "True"
      ]
     },
     "execution_count": 10,
     "metadata": {},
     "output_type": "execute_result"
    }
   ],
   "source": [
    "not (False)*False  #false * false happens first which is 0 then not of 0 is true"
   ]
  },
  {
   "cell_type": "code",
   "execution_count": 11,
   "id": "f4c2b7e4-4ea3-4605-b30c-1fd54e377e10",
   "metadata": {},
   "outputs": [
    {
     "data": {
      "text/plain": [
       "0"
      ]
     },
     "execution_count": 11,
     "metadata": {},
     "output_type": "execute_result"
    }
   ],
   "source": [
    "(not (False))*False  #here output is 0 bcuz pemdos / bodmas rule applied. first whats inside bracket will be considered."
   ]
  },
  {
   "cell_type": "markdown",
   "id": "f6c2efc2-a4f2-498e-a226-53ce02753dd1",
   "metadata": {},
   "source": [
    "# equality operators\n",
    "# is      a is b returns true  returns true if a and b is same object (each object has different memory address or id)\n",
    "# is not a is not b returns true if a and b is diff object \n",
    "# ==      a==b returns true if and b has same value\n",
    "# !=      a!=b returns true if and b has different value"
   ]
  },
  {
   "cell_type": "code",
   "execution_count": 12,
   "id": "23c25da4-1cd2-455c-98bd-2f6879172051",
   "metadata": {},
   "outputs": [],
   "source": [
    "lst_a=[1,2,3,4]\n",
    "lst_b=[1,2,3,4]"
   ]
  },
  {
   "cell_type": "code",
   "execution_count": 13,
   "id": "7dc5c252-a625-4817-b29d-872957c784bb",
   "metadata": {},
   "outputs": [
    {
     "data": {
      "text/plain": [
       "False"
      ]
     },
     "execution_count": 13,
     "metadata": {},
     "output_type": "execute_result"
    }
   ],
   "source": [
    "lst_a is lst_b"
   ]
  },
  {
   "cell_type": "code",
   "execution_count": 14,
   "id": "ee68edaa-aae9-45c8-ac9a-739d44e2eded",
   "metadata": {},
   "outputs": [
    {
     "data": {
      "text/plain": [
       "True"
      ]
     },
     "execution_count": 14,
     "metadata": {},
     "output_type": "execute_result"
    }
   ],
   "source": [
    "lst_a is not lst_b"
   ]
  },
  {
   "cell_type": "code",
   "execution_count": 15,
   "id": "fb195795-8fe8-4e8b-ab01-4b897da0419d",
   "metadata": {},
   "outputs": [
    {
     "data": {
      "text/plain": [
       "140170647386560"
      ]
     },
     "execution_count": 15,
     "metadata": {},
     "output_type": "execute_result"
    }
   ],
   "source": [
    "id(lst_a)"
   ]
  },
  {
   "cell_type": "code",
   "execution_count": 16,
   "id": "6dad86ab-2da6-43be-a403-e03c9b07f9ad",
   "metadata": {},
   "outputs": [
    {
     "data": {
      "text/plain": [
       "140170620578624"
      ]
     },
     "execution_count": 16,
     "metadata": {},
     "output_type": "execute_result"
    }
   ],
   "source": [
    "id(lst_b)"
   ]
  },
  {
   "cell_type": "code",
   "execution_count": 18,
   "id": "b5e3343a-63c0-4944-9c5c-f366cde7fddd",
   "metadata": {},
   "outputs": [],
   "source": [
    "lst_c=[1,2,3,4]\n",
    "lst_d=lst_c ####"
   ]
  },
  {
   "cell_type": "code",
   "execution_count": 20,
   "id": "e2b063fe-0369-434e-bc10-0d39673507c7",
   "metadata": {},
   "outputs": [
    {
     "name": "stdout",
     "output_type": "stream",
     "text": [
      "140170490143232\n",
      "140170490143232\n"
     ]
    }
   ],
   "source": [
    "print(id(lst_c))  #in out put memory address or id is same cuz of the above method\n",
    "print(id(lst_d))"
   ]
  },
  {
   "cell_type": "code",
   "execution_count": 21,
   "id": "ae673c66-5c96-4bdc-bcc9-bef9449e1b14",
   "metadata": {},
   "outputs": [
    {
     "name": "stdout",
     "output_type": "stream",
     "text": [
      "140170696392976\n",
      "140170696392976\n"
     ]
    }
   ],
   "source": [
    "a=2\n",
    "b=2\n",
    "print(id(a))  #here memory address is same cuz its not a collection or list. this happens with int and string\n",
    "print(id(b))"
   ]
  },
  {
   "cell_type": "code",
   "execution_count": null,
   "id": "94779c63-4a83-46f2-8132-882ee28d57e5",
   "metadata": {},
   "outputs": [],
   "source": []
  },
  {
   "cell_type": "markdown",
   "id": "edb14eba-fabe-4e59-af40-6c71f01ffe4f",
   "metadata": {},
   "source": [
    "## comparison operators\n",
    "# < less than\n",
    "# <= less than equal to\n",
    "# > greater than\n",
    "# >= greater than equal to"
   ]
  },
  {
   "cell_type": "code",
   "execution_count": null,
   "id": "e1c18ded-f649-45d1-ad92-f0f1a9043f3f",
   "metadata": {},
   "outputs": [],
   "source": []
  },
  {
   "cell_type": "markdown",
   "id": "f2ade2ae-3a74-46c4-8b4f-89ba1d5b4407",
   "metadata": {},
   "source": [
    "# Arithmetic operation\n",
    "# + add\n",
    "# - sub\n",
    "# * multiply\n",
    "# / true division\n",
    "# // integer division\n",
    "# %  modulus (remainder)\n"
   ]
  },
  {
   "cell_type": "code",
   "execution_count": null,
   "id": "b5dab873-141f-44e8-9210-a46aa57d4968",
   "metadata": {},
   "outputs": [],
   "source": []
  },
  {
   "cell_type": "markdown",
   "id": "75300822-1103-4e3b-b6e1-32a24d3956fe",
   "metadata": {},
   "source": [
    "# Bitwise operators\n",
    "# ~ bitwise complement\n",
    "# & bitwise and \n",
    "# | bitwise or\n",
    "# ^ bitwise exclusive or\n",
    "# << shift bits left, filling in wih zeros\n",
    "# >> shift bits right, filling in with sign bit"
   ]
  },
  {
   "cell_type": "code",
   "execution_count": 25,
   "id": "5e01139d-df4a-48e0-b8c9-9479237adef9",
   "metadata": {},
   "outputs": [
    {
     "data": {
      "text/plain": [
       "'0b1010'"
      ]
     },
     "execution_count": 25,
     "metadata": {},
     "output_type": "execute_result"
    }
   ],
   "source": [
    "var=10\n",
    "bin(var) # 0b represents binary and 1010 is binary value of 10"
   ]
  },
  {
   "cell_type": "code",
   "execution_count": 26,
   "id": "40f09a1d-0371-48a1-9db0-355d19c31608",
   "metadata": {},
   "outputs": [
    {
     "data": {
      "text/plain": [
       "-11"
      ]
     },
     "execution_count": 26,
     "metadata": {},
     "output_type": "execute_result"
    }
   ],
   "source": [
    "~var"
   ]
  },
  {
   "cell_type": "code",
   "execution_count": 27,
   "id": "6c60e738-71d5-4dcf-b9d8-c02a2fa5bf88",
   "metadata": {},
   "outputs": [
    {
     "data": {
      "text/plain": [
       "True"
      ]
     },
     "execution_count": 27,
     "metadata": {},
     "output_type": "execute_result"
    }
   ],
   "source": [
    "True | False"
   ]
  },
  {
   "cell_type": "code",
   "execution_count": 29,
   "id": "e7102d4b-40c2-40b4-a605-1dc3a95a355d",
   "metadata": {},
   "outputs": [
    {
     "data": {
      "text/plain": [
       "False"
      ]
     },
     "execution_count": 29,
     "metadata": {},
     "output_type": "execute_result"
    }
   ],
   "source": [
    "False & False"
   ]
  },
  {
   "cell_type": "code",
   "execution_count": 30,
   "id": "29c65927-ee52-4b7d-9067-8c27fd19ab2b",
   "metadata": {},
   "outputs": [
    {
     "data": {
      "text/plain": [
       "5"
      ]
     },
     "execution_count": 30,
     "metadata": {},
     "output_type": "execute_result"
    }
   ],
   "source": [
    "var>>1"
   ]
  },
  {
   "cell_type": "code",
   "execution_count": 31,
   "id": "42a2db5b-5b50-4ddb-8cf9-04f3a9773930",
   "metadata": {},
   "outputs": [
    {
     "data": {
      "text/plain": [
       "20"
      ]
     },
     "execution_count": 31,
     "metadata": {},
     "output_type": "execute_result"
    }
   ],
   "source": [
    "var <<1"
   ]
  },
  {
   "cell_type": "markdown",
   "id": "098c0799-2b96-4304-b91c-490c6b4a89fc",
   "metadata": {},
   "source": [
    "# Strings"
   ]
  },
  {
   "cell_type": "code",
   "execution_count": 32,
   "id": "7ef4322e-98bd-4998-888c-516cdf9a8aea",
   "metadata": {},
   "outputs": [],
   "source": [
    "str1='welcome to python' # strings are immutable"
   ]
  },
  {
   "cell_type": "code",
   "execution_count": 33,
   "id": "9342273b-fccc-41a1-979e-ae12c92fed41",
   "metadata": {},
   "outputs": [
    {
     "data": {
      "text/plain": [
       "str"
      ]
     },
     "execution_count": 33,
     "metadata": {},
     "output_type": "execute_result"
    }
   ],
   "source": [
    "type (str1)"
   ]
  },
  {
   "cell_type": "code",
   "execution_count": 42,
   "id": "4a219e39-b88b-4cab-903f-298f4ad40f8d",
   "metadata": {},
   "outputs": [
    {
     "data": {
      "text/plain": [
       "'w'"
      ]
     },
     "execution_count": 42,
     "metadata": {},
     "output_type": "execute_result"
    }
   ],
   "source": [
    "str1[0]"
   ]
  },
  {
   "cell_type": "code",
   "execution_count": 43,
   "id": "329cc414-0e7b-4534-83bd-28906e53d1d6",
   "metadata": {},
   "outputs": [
    {
     "data": {
      "text/plain": [
       "'m'"
      ]
     },
     "execution_count": 43,
     "metadata": {},
     "output_type": "execute_result"
    }
   ],
   "source": [
    "str1[5]"
   ]
  },
  {
   "cell_type": "code",
   "execution_count": 35,
   "id": "85e6a257-eacd-41c1-b9b2-1ef3aadbb1e8",
   "metadata": {},
   "outputs": [
    {
     "data": {
      "text/plain": [
       "'me to python'"
      ]
     },
     "execution_count": 35,
     "metadata": {},
     "output_type": "execute_result"
    }
   ],
   "source": [
    "#slicing\n",
    "str1[5:]"
   ]
  },
  {
   "cell_type": "code",
   "execution_count": 36,
   "id": "08125d7e-d65a-4600-a26c-c5ee65e0ac8e",
   "metadata": {},
   "outputs": [
    {
     "data": {
      "text/plain": [
       "'me to'"
      ]
     },
     "execution_count": 36,
     "metadata": {},
     "output_type": "execute_result"
    }
   ],
   "source": [
    "str1[5:10]"
   ]
  },
  {
   "cell_type": "code",
   "execution_count": 37,
   "id": "8eef1f1f-6550-49a2-bb87-d5bc75265796",
   "metadata": {},
   "outputs": [
    {
     "data": {
      "text/plain": [
       "'n'"
      ]
     },
     "execution_count": 37,
     "metadata": {},
     "output_type": "execute_result"
    }
   ],
   "source": [
    "str1[-1] "
   ]
  },
  {
   "cell_type": "code",
   "execution_count": 38,
   "id": "6f382ba5-f4f6-4571-9db0-b6e12267494b",
   "metadata": {},
   "outputs": [
    {
     "data": {
      "text/plain": [
       "'ython'"
      ]
     },
     "execution_count": 38,
     "metadata": {},
     "output_type": "execute_result"
    }
   ],
   "source": [
    "str1[-5:]"
   ]
  },
  {
   "cell_type": "code",
   "execution_count": 39,
   "id": "3d447caa-7eb4-4d64-b421-fcfa34a971ab",
   "metadata": {},
   "outputs": [
    {
     "data": {
      "text/plain": [
       "'nohtyp ot emoclew'"
      ]
     },
     "execution_count": 39,
     "metadata": {},
     "output_type": "execute_result"
    }
   ],
   "source": [
    "str1[::-1] # reverse string"
   ]
  },
  {
   "cell_type": "code",
   "execution_count": 40,
   "id": "45c90d78-253f-410b-8136-1a7cb8d0c575",
   "metadata": {},
   "outputs": [
    {
     "data": {
      "text/plain": [
       "'welcome to pytho'"
      ]
     },
     "execution_count": 40,
     "metadata": {},
     "output_type": "execute_result"
    }
   ],
   "source": [
    "str1[:-1]"
   ]
  },
  {
   "cell_type": "code",
   "execution_count": 41,
   "id": "88de6e2c-4b52-459c-b337-10104ea1b362",
   "metadata": {},
   "outputs": [
    {
     "data": {
      "text/plain": [
       "'emoclew'"
      ]
     },
     "execution_count": 41,
     "metadata": {},
     "output_type": "execute_result"
    }
   ],
   "source": [
    "str1[6::-1]"
   ]
  },
  {
   "cell_type": "code",
   "execution_count": 44,
   "id": "fc75753c-4a34-4976-87c0-a618cc4603c9",
   "metadata": {},
   "outputs": [
    {
     "data": {
      "text/plain": [
       "'emoclew'"
      ]
     },
     "execution_count": 44,
     "metadata": {},
     "output_type": "execute_result"
    }
   ],
   "source": [
    "str1[6::-1]"
   ]
  },
  {
   "cell_type": "code",
   "execution_count": 49,
   "id": "ad0ecfee-e1fc-4e60-ba77-66c62faac0f7",
   "metadata": {},
   "outputs": [],
   "source": [
    "str2= ' hello'"
   ]
  },
  {
   "cell_type": "code",
   "execution_count": 50,
   "id": "25e3b2f9-7606-4ec7-adf9-08f68625c442",
   "metadata": {},
   "outputs": [
    {
     "data": {
      "text/plain": [
       "'welcome to python hello'"
      ]
     },
     "execution_count": 50,
     "metadata": {},
     "output_type": "execute_result"
    }
   ],
   "source": [
    "str1+str2"
   ]
  },
  {
   "cell_type": "code",
   "execution_count": 51,
   "id": "587d2602-b91b-42c1-885d-0e48b0465059",
   "metadata": {},
   "outputs": [
    {
     "data": {
      "text/plain": [
       "17"
      ]
     },
     "execution_count": 51,
     "metadata": {},
     "output_type": "execute_result"
    }
   ],
   "source": [
    "len(str1)"
   ]
  },
  {
   "cell_type": "code",
   "execution_count": 54,
   "id": "a9aad55e-a3c6-42a7-9620-dc9e22b30dd7",
   "metadata": {},
   "outputs": [
    {
     "data": {
      "text/plain": [
       "16"
      ]
     },
     "execution_count": 54,
     "metadata": {},
     "output_type": "execute_result"
    }
   ],
   "source": [
    "#find function\n",
    "str1.find('n') # shows us the index number of n"
   ]
  },
  {
   "cell_type": "code",
   "execution_count": 56,
   "id": "f88272b0-7669-4d73-9a70-ab63421be697",
   "metadata": {},
   "outputs": [
    {
     "data": {
      "text/plain": [
       "16"
      ]
     },
     "execution_count": 56,
     "metadata": {},
     "output_type": "execute_result"
    }
   ],
   "source": [
    "str1.find('n',10,20) # 10 and 20 are start and stop of index  where it starts and stops searching"
   ]
  },
  {
   "cell_type": "code",
   "execution_count": 58,
   "id": "4e041bb0-e277-4a48-bb10-c217f7fdfc90",
   "metadata": {},
   "outputs": [
    {
     "data": {
      "text/plain": [
       "1"
      ]
     },
     "execution_count": 58,
     "metadata": {},
     "output_type": "execute_result"
    }
   ],
   "source": [
    "str1.count('n') #how many times n is present"
   ]
  },
  {
   "cell_type": "code",
   "execution_count": 59,
   "id": "0641ae18-4ed1-4c94-89e2-a4c2518b8c30",
   "metadata": {},
   "outputs": [
    {
     "data": {
      "text/plain": [
       "'welcome to pythonwelcome to pythonwelcome to pythonwelcome to pythonwelcome to python'"
      ]
     },
     "execution_count": 59,
     "metadata": {},
     "output_type": "execute_result"
    }
   ],
   "source": [
    "str1*5"
   ]
  },
  {
   "cell_type": "code",
   "execution_count": 60,
   "id": "bc8f65ca-c0a9-4b66-81dd-6e0367e90296",
   "metadata": {},
   "outputs": [
    {
     "data": {
      "text/plain": [
       "['welcome', 'to', 'python']"
      ]
     },
     "execution_count": 60,
     "metadata": {},
     "output_type": "execute_result"
    }
   ],
   "source": [
    "# string split function\n",
    "str1.split(' ')"
   ]
  },
  {
   "cell_type": "code",
   "execution_count": 61,
   "id": "0231745c-4e34-4e1e-9a69-fda1c66c404f",
   "metadata": {},
   "outputs": [
    {
     "data": {
      "text/plain": [
       "['welcome ', 'o py', 'hon']"
      ]
     },
     "execution_count": 61,
     "metadata": {},
     "output_type": "execute_result"
    }
   ],
   "source": [
    "str1.split('t')"
   ]
  },
  {
   "cell_type": "code",
   "execution_count": 63,
   "id": "303d2f1c-378f-4683-994b-8ae1fd73596f",
   "metadata": {},
   "outputs": [
    {
     "data": {
      "text/plain": [
       "('welcome ', 't', 'o python')"
      ]
     },
     "execution_count": 63,
     "metadata": {},
     "output_type": "execute_result"
    }
   ],
   "source": [
    "str1.partition('t')"
   ]
  },
  {
   "cell_type": "code",
   "execution_count": 64,
   "id": "e8622faa-bbeb-467a-a7b9-6b1425992630",
   "metadata": {},
   "outputs": [
    {
     "data": {
      "text/plain": [
       "'WELCOME TO PYTHON'"
      ]
     },
     "execution_count": 64,
     "metadata": {},
     "output_type": "execute_result"
    }
   ],
   "source": [
    "## string upper and lower\n",
    "str1.upper()"
   ]
  },
  {
   "cell_type": "code",
   "execution_count": 65,
   "id": "d2eb6173-0da3-4cf1-8191-6490f230b2a7",
   "metadata": {},
   "outputs": [
    {
     "data": {
      "text/plain": [
       "'welcome to python'"
      ]
     },
     "execution_count": 65,
     "metadata": {},
     "output_type": "execute_result"
    }
   ],
   "source": [
    "str1.lower()"
   ]
  },
  {
   "cell_type": "code",
   "execution_count": 66,
   "id": "1763fc59-b810-4a7e-80cd-f7445ad344dd",
   "metadata": {},
   "outputs": [
    {
     "data": {
      "text/plain": [
       "'Welcome to python'"
      ]
     },
     "execution_count": 66,
     "metadata": {},
     "output_type": "execute_result"
    }
   ],
   "source": [
    "str1.capitalize()"
   ]
  },
  {
   "cell_type": "code",
   "execution_count": 69,
   "id": "e758ef9d-bbe9-47b4-b3dc-1cce2f9a6a7e",
   "metadata": {},
   "outputs": [],
   "source": [
    "str3='Hello World'"
   ]
  },
  {
   "cell_type": "code",
   "execution_count": 70,
   "id": "14e554d0-4aeb-4950-a551-434ee389c5bb",
   "metadata": {},
   "outputs": [
    {
     "data": {
      "text/plain": [
       "'hELLO wORLD'"
      ]
     },
     "execution_count": 70,
     "metadata": {},
     "output_type": "execute_result"
    }
   ],
   "source": [
    "str3.swapcase()"
   ]
  },
  {
   "cell_type": "code",
   "execution_count": 71,
   "id": "af98f642-0dc8-4d3e-addb-c24b4de12532",
   "metadata": {},
   "outputs": [
    {
     "data": {
      "text/plain": [
       "'Welcome To Python'"
      ]
     },
     "execution_count": 71,
     "metadata": {},
     "output_type": "execute_result"
    }
   ],
   "source": [
    "str1.title()"
   ]
  },
  {
   "cell_type": "code",
   "execution_count": null,
   "id": "aed5be8f-a49f-402e-b21b-52ab9e0ac168",
   "metadata": {},
   "outputs": [],
   "source": []
  }
 ],
 "metadata": {
  "kernelspec": {
   "display_name": "Python 3 (ipykernel)",
   "language": "python",
   "name": "python3"
  },
  "language_info": {
   "codemirror_mode": {
    "name": "ipython",
    "version": 3
   },
   "file_extension": ".py",
   "mimetype": "text/x-python",
   "name": "python",
   "nbconvert_exporter": "python",
   "pygments_lexer": "ipython3",
   "version": "3.10.8"
  }
 },
 "nbformat": 4,
 "nbformat_minor": 5
}
